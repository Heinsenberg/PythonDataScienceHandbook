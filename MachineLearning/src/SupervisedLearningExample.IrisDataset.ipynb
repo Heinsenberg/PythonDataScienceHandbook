{
 "cells": [
  {
   "cell_type": "code",
   "execution_count": 12,
   "metadata": {},
   "outputs": [
    {
     "data": {
      "text/plain": [
       "0.9736842105263158"
      ]
     },
     "execution_count": 12,
     "metadata": {},
     "output_type": "execute_result"
    }
   ],
   "source": [
    "#%matplotlib inline\n",
    "import seaborn as sns \n",
    "\n",
    "from sklearn.model_selection import train_test_split\n",
    "from sklearn.metrics import accuracy_score\n",
    "\n",
    "iris = sns.load_dataset('iris')\n",
    "\n",
    "X_iris = iris.drop('species',axis=1)\n",
    "X_iris.shape\n",
    "\n",
    "y_iris = iris['species']\n",
    "y_iris.shape\n",
    "\n",
    "Xtrain, Xtest, ytrain, ytest = train_test_split(X_iris,y_iris,random_state=1)\n",
    "\n",
    "from sklearn.naive_bayes import GaussianNB # 1. Choose model class\n",
    "model = GaussianNB()                       # 2. Instantiate model\n",
    "model.fit(Xtrain,ytrain)                   # 3. fit model to data\n",
    "y_model = model.predict(Xtest)             # 4. predict on new data\n",
    "\n",
    "accuracy_score(ytest,y_model)\n"
   ]
  },
  {
   "cell_type": "code",
   "execution_count": null,
   "metadata": {},
   "outputs": [],
   "source": []
  },
  {
   "cell_type": "code",
   "execution_count": null,
   "metadata": {},
   "outputs": [],
   "source": []
  }
 ],
 "metadata": {
  "kernelspec": {
   "display_name": "Python 3",
   "language": "python",
   "name": "python3"
  },
  "language_info": {
   "codemirror_mode": {
    "name": "ipython",
    "version": 3
   },
   "file_extension": ".py",
   "mimetype": "text/x-python",
   "name": "python",
   "nbconvert_exporter": "python",
   "pygments_lexer": "ipython3",
   "version": "3.6.5"
  }
 },
 "nbformat": 4,
 "nbformat_minor": 2
}
